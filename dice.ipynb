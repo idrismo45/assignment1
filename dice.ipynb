{
 "cells": [
  {
   "cell_type": "code",
   "execution_count": 1,
   "metadata": {},
   "outputs": [
    {
     "name": "stdout",
     "output_type": "stream",
     "text": [
      "You rolled: 1\n",
      "You rolled: 3\n"
     ]
    }
   ],
   "source": [
    "import random  # Import the random module for generating random numbers\n",
    "\n",
    "while True:  # Main loop for allowing repeated rolls\n",
    "    min_value = 1  # Set the minimum value of the dice\n",
    "    max_value = 6  # Set the maximum value of the dice\n",
    "\n",
    "    input(\"Press enter to roll the dice...\")  # Prompt user to roll\n",
    "\n",
    "    # Generate a random number within the specified range\n",
    "    result = random.randint(min_value, max_value)\n",
    "    print(f\"You rolled: {result}\")  # Display the result\n",
    "\n",
    "    while True:  # Inner loop for handling replay choice\n",
    "        play_again = input(\"Do you want to roll again? (yes/no): \").lower()\n",
    "        if play_again in ['yes', 'no']:\n",
    "            break  # Exit the inner loop if a valid choice is made\n",
    "        else:\n",
    "            print(\"Please enter 'yes' or 'no'.\")  # Prompt for valid input\n",
    "\n",
    "    if play_again != 'yes':\n",
    "        break  # Exit the main loop if the user chooses not to play again\n"
   ]
  },
  {
   "cell_type": "code",
   "execution_count": null,
   "metadata": {},
   "outputs": [],
   "source": []
  }
 ],
 "metadata": {
  "kernelspec": {
   "display_name": "Python 3",
   "language": "python",
   "name": "python3"
  },
  "language_info": {
   "codemirror_mode": {
    "name": "ipython",
    "version": 3
   },
   "file_extension": ".py",
   "mimetype": "text/x-python",
   "name": "python",
   "nbconvert_exporter": "python",
   "pygments_lexer": "ipython3",
   "version": "3.10.2"
  },
  "orig_nbformat": 4
 },
 "nbformat": 4,
 "nbformat_minor": 2
}
